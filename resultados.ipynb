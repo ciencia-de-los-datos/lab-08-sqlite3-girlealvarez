{
 "cells": [
  {
   "cell_type": "code",
   "execution_count": 2,
   "metadata": {},
   "outputs": [
    {
     "name": "stdout",
     "output_type": "stream",
     "text": [
      "K0\tavg(c12)\n",
      "A\t476.155\n",
      "B\t536.5233333333333\n",
      "C\t490.8299999999999\n",
      "D\t709.53\n",
      "E\t474.82500000000005\n"
     ]
    }
   ],
   "source": [
    "import sqlite3\n",
    "\n",
    "\n",
    "# Conectar a la base de datos SQLite\n",
    "conn = sqlite3.connect(\"tbl_data.db\")\n",
    "\n",
    "# Consulta SQL\n",
    "sql_query = \"\"\"\n",
    "\n",
    "SELECT K0, avg(c12) as \"avg(c12)\"\n",
    "FROM tbl1\n",
    "WHERE c13 > 400\n",
    "GROUP BY K0;\n",
    "\n",
    "\n",
    "\"\"\"\n",
    "\n",
    "# Ejecutar la consulta SQL\n",
    "cursor = conn.execute(sql_query)\n",
    "\n",
    "# Obtener los nombres de los campos\n",
    "column_names = [description[0] for description in cursor.description]\n",
    "\n",
    "# Mostrar los nombres de los campos\n",
    "print(\"\\t\".join(column_names))\n",
    "\n",
    "# Mostrar los resultados de la consulta\n",
    "for row in cursor:\n",
    "    print(\"\\t\".join(str(value) for value in row))"
   ]
  }
 ],
 "metadata": {
  "kernelspec": {
   "display_name": ".venv",
   "language": "python",
   "name": "python3"
  },
  "language_info": {
   "codemirror_mode": {
    "name": "ipython",
    "version": 3
   },
   "file_extension": ".py",
   "mimetype": "text/x-python",
   "name": "python",
   "nbconvert_exporter": "python",
   "pygments_lexer": "ipython3",
   "version": "3.9.5"
  }
 },
 "nbformat": 4,
 "nbformat_minor": 2
}
